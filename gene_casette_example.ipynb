{
 "cells": [
  {
   "cell_type": "code",
   "execution_count": 13,
   "metadata": {},
   "outputs": [
    {
     "name": "stdout",
     "output_type": "stream",
     "text": [
      "Design........................0\n",
      "Build.........................0\n",
      "Test..........................0\n",
      "Analysis......................0\n",
      "ComponentDefinition...........5\n",
      "ModuleDefinition..............0\n",
      "Model.........................0\n",
      "Sequence......................5\n",
      "Collection....................0\n",
      "Activity......................0\n",
      "Plan..........................0\n",
      "Agent.........................0\n",
      "Attachment....................0\n",
      "CombinatorialDerivation.......0\n",
      "Implementation................0\n",
      "SampleRoster..................0\n",
      "Experiment....................0\n",
      "ExperimentalData..............0\n",
      "Annotation Objects............0\n",
      "---\n",
      "Total: .........................10\n",
      "\n"
     ]
    }
   ],
   "source": [
    "import sbol2\n",
    "sbol2.setHomespace('http://sbolstandard.org/examples/')\n",
    "doc = sbol2.Document()\n",
    "doc.read('gene_cassette_sbol2.rdf')\n",
    "print(doc)"
   ]
  },
  {
   "cell_type": "code",
   "execution_count": 14,
   "metadata": {},
   "outputs": [
    {
     "name": "stdout",
     "output_type": "stream",
     "text": [
      "http://sbolstandard.org/examples/Design/SA_4/subcomponent_5/Seq_5 None\n",
      "http://sbolstandard.org/examples/Design/SA_2/subcomponent_3 RBS_1\n",
      "http://sbolstandard.org/examples/Design/SA_3/subcomponent_4/Seq_4 None\n",
      "http://sbolstandard.org/examples/Design/SA_4/subcomponent_5 Terminator_1\n",
      "http://sbolstandard.org/examples/Design A_gene_cassette\n",
      "http://sbolstandard.org/examples/Design/SA_2/subcomponent_3/Seq_3 None\n",
      "http://sbolstandard.org/examples/Design/SA_1/subcomponent_1/Seq_1 None\n",
      "http://sbolstandard.org/examples/Design/SA_1/subcomponent_1 Promoter_1\n",
      "http://sbolstandard.org/examples/Design/Seq None\n",
      "http://sbolstandard.org/examples/Design/SA_3/subcomponent_4 Coding_sequence_1\n"
     ]
    }
   ],
   "source": [
    "for obj in doc:\n",
    "    print(obj,obj.displayId)"
   ]
  },
  {
   "cell_type": "code",
   "execution_count": 27,
   "metadata": {},
   "outputs": [
    {
     "name": "stdout",
     "output_type": "stream",
     "text": [
      "Promoter_1\n",
      "RBS_1\n",
      "Coding_sequence_1\n",
      "Terminator_1\n"
     ]
    }
   ],
   "source": [
    "design = doc.getComponentDefinition('http://sbolstandard.org/examples/Design')\n",
    "for comp in design.getInSequentialOrder():\n",
    "    cd = doc.getComponentDefinition(comp.definition)\n",
    "    print(cd.displayId)    "
   ]
  }
 ],
 "metadata": {
  "kernelspec": {
   "display_name": "Python 3",
   "language": "python",
   "name": "python3"
  },
  "language_info": {
   "codemirror_mode": {
    "name": "ipython",
    "version": 3
   },
   "file_extension": ".py",
   "mimetype": "text/x-python",
   "name": "python",
   "nbconvert_exporter": "python",
   "pygments_lexer": "ipython3",
   "version": "3.7.3"
  }
 },
 "nbformat": 4,
 "nbformat_minor": 4
}
