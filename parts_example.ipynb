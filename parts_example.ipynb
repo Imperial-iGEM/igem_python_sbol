{
 "cells": [
  {
   "cell_type": "code",
   "execution_count": 2,
   "metadata": {},
   "outputs": [],
   "source": [
    "import sbol2\n",
    "sbol2.setHomespace('http://sys-bio.org')\n",
    "doc = sbol2.Document('parts.xml')"
   ]
  },
  {
   "cell_type": "code",
   "execution_count": 3,
   "metadata": {},
   "outputs": [
    {
     "name": "stdout",
     "output_type": "stream",
     "text": [
      "L3S3P11_sequence http://sbols.org/v2#Sequence\n",
      "rbs http://sbols.org/v2#Collection\n",
      "P3_PhlF_sequence http://sbols.org/v2#Sequence\n",
      "YFP_protein_sequence http://sbols.org/v2#Sequence\n",
      "L3S2P55 http://sbols.org/v2#ComponentDefinition\n",
      "ECK120010818 http://sbols.org/v2#ComponentDefinition\n",
      "pPhlF_sequence http://sbols.org/v2#Sequence\n",
      "coding_sequences http://sbols.org/v2#Collection\n",
      "P3_PhlF http://sbols.org/v2#ComponentDefinition\n",
      "S4_SrpR http://sbols.org/v2#ComponentDefinition\n",
      "N1 http://sbols.org/v2#ComponentDefinition\n",
      "AmeR http://sbols.org/v2#ComponentDefinition\n",
      "ECK120010818_sequence http://sbols.org/v2#Sequence\n",
      "AmeR_sequence http://sbols.org/v2#Sequence\n",
      "YFP http://sbols.org/v2#ComponentDefinition\n",
      "PhlF http://sbols.org/v2#ComponentDefinition\n",
      "terminators http://sbols.org/v2#Collection\n",
      "pLuxStar http://sbols.org/v2#ComponentDefinition\n",
      "promoters http://sbols.org/v2#Collection\n",
      "pPhlF http://sbols.org/v2#ComponentDefinition\n",
      "N1_sequence http://sbols.org/v2#Sequence\n",
      "pAmeR http://sbols.org/v2#ComponentDefinition\n",
      "LuxR_sequence http://sbols.org/v2#Sequence\n",
      "PhlF_sequence http://sbols.org/v2#Sequence\n",
      "S4_SrpR_sequence http://sbols.org/v2#Sequence\n",
      "L3S2P55_sequence http://sbols.org/v2#Sequence\n",
      "L3S3P11 http://sbols.org/v2#ComponentDefinition\n",
      "Q2 http://sbols.org/v2#ComponentDefinition\n",
      "Q2_sequence http://sbols.org/v2#Sequence\n",
      "pLuxStar_sequence http://sbols.org/v2#Sequence\n",
      "pAmeR_sequence http://sbols.org/v2#Sequence\n",
      "LuxR http://sbols.org/v2#ComponentDefinition\n"
     ]
    }
   ],
   "source": [
    "for obj in doc:\n",
    "    print(obj.displayId,obj.type)"
   ]
  },
  {
   "cell_type": "code",
   "execution_count": 4,
   "metadata": {},
   "outputs": [
    {
     "name": "stdout",
     "output_type": "stream",
     "text": [
      "http://examples.org/Sequence/L3S3P11_sequence/1\n",
      "http://examples.org/Sequence/P3_PhlF_sequence/1\n",
      "http://examples.org/Sequence/YFP_protein_sequence/1\n",
      "http://examples.org/Sequence/pPhlF_sequence/1\n",
      "http://examples.org/Sequence/ECK120010818_sequence/1\n",
      "http://examples.org/Sequence/AmeR_sequence/1\n",
      "http://examples.org/Sequence/N1_sequence/1\n",
      "http://examples.org/Sequence/LuxR_sequence/1\n",
      "http://examples.org/Sequence/PhlF_sequence/1\n",
      "http://examples.org/Sequence/S4_SrpR_sequence/1\n",
      "http://examples.org/Sequence/L3S2P55_sequence/1\n",
      "http://examples.org/Sequence/Q2_sequence/1\n",
      "http://examples.org/Sequence/pLuxStar_sequence/1\n",
      "http://examples.org/Sequence/pAmeR_sequence/1\n"
     ]
    }
   ],
   "source": [
    "for obj in doc.sequences:\n",
    "    print(obj)"
   ]
  },
  {
   "cell_type": "code",
   "execution_count": 8,
   "metadata": {},
   "outputs": [
    {
     "name": "stderr",
     "output_type": "stream",
     "text": [
      "C:\\Users\\hiami\\AppData\\Roaming\\Python\\Python37\\site-packages\\sbol2\\sbolerror.py:31: RuntimeWarning: SBOLError arguments out of order\n",
      "  RuntimeWarning)\n"
     ]
    },
    {
     "ename": "SBOLError",
     "evalue": "(<SBOLErrorCode.SBOL_ERROR_NOT_FOUND: 3>, 'Cannot determine upstream Component. Self has no SequenceConstraints')",
     "output_type": "error",
     "traceback": [
      "\u001b[1;31m---------------------------------------------------------------------------\u001b[0m",
      "\u001b[1;31mSBOLError\u001b[0m                                 Traceback (most recent call last)",
      "\u001b[1;32m<ipython-input-8-7d108f19aec7>\u001b[0m in \u001b[0;36m<module>\u001b[1;34m\u001b[0m\n\u001b[0;32m      1\u001b[0m \u001b[0mS4_SrpR\u001b[0m \u001b[1;33m=\u001b[0m \u001b[0mdoc\u001b[0m\u001b[1;33m.\u001b[0m\u001b[0mcomponentDefinitions\u001b[0m\u001b[1;33m[\u001b[0m\u001b[1;34m'S4_SrpR'\u001b[0m\u001b[1;33m]\u001b[0m\u001b[1;33m\u001b[0m\u001b[1;33m\u001b[0m\u001b[0m\n\u001b[1;32m----> 2\u001b[1;33m \u001b[0mS4_SrpR\u001b[0m\u001b[1;33m.\u001b[0m\u001b[0mgetFirstComponent\u001b[0m\u001b[1;33m(\u001b[0m\u001b[1;33m)\u001b[0m\u001b[1;33m\u001b[0m\u001b[1;33m\u001b[0m\u001b[0m\n\u001b[0m",
      "\u001b[1;32m~\\AppData\\Roaming\\Python\\Python37\\site-packages\\sbol2\\componentdefinition.py\u001b[0m in \u001b[0;36mgetFirstComponent\u001b[1;34m(self)\u001b[0m\n\u001b[0;32m    497\u001b[0m         \u001b[0marbitrary_component\u001b[0m \u001b[1;33m=\u001b[0m \u001b[0mself\u001b[0m\u001b[1;33m.\u001b[0m\u001b[0mcomponents\u001b[0m\u001b[1;33m[\u001b[0m\u001b[1;36m0\u001b[0m\u001b[1;33m]\u001b[0m\u001b[1;33m\u001b[0m\u001b[1;33m\u001b[0m\u001b[0m\n\u001b[0;32m    498\u001b[0m         \u001b[0mnext_component\u001b[0m \u001b[1;33m=\u001b[0m \u001b[0marbitrary_component\u001b[0m\u001b[1;33m\u001b[0m\u001b[1;33m\u001b[0m\u001b[0m\n\u001b[1;32m--> 499\u001b[1;33m         \u001b[1;32mwhile\u001b[0m \u001b[0mself\u001b[0m\u001b[1;33m.\u001b[0m\u001b[0mhasUpstreamComponent\u001b[0m\u001b[1;33m(\u001b[0m\u001b[0mnext_component\u001b[0m\u001b[1;33m)\u001b[0m\u001b[1;33m:\u001b[0m\u001b[1;33m\u001b[0m\u001b[1;33m\u001b[0m\u001b[0m\n\u001b[0m\u001b[0;32m    500\u001b[0m             \u001b[0mnext_component\u001b[0m \u001b[1;33m=\u001b[0m \u001b[0mself\u001b[0m\u001b[1;33m.\u001b[0m\u001b[0mgetUpstreamComponent\u001b[0m\u001b[1;33m(\u001b[0m\u001b[0mnext_component\u001b[0m\u001b[1;33m)\u001b[0m\u001b[1;33m\u001b[0m\u001b[1;33m\u001b[0m\u001b[0m\n\u001b[0;32m    501\u001b[0m         \u001b[1;32mreturn\u001b[0m \u001b[0mnext_component\u001b[0m\u001b[1;33m\u001b[0m\u001b[1;33m\u001b[0m\u001b[0m\n",
      "\u001b[1;32m~\\AppData\\Roaming\\Python\\Python37\\site-packages\\sbol2\\componentdefinition.py\u001b[0m in \u001b[0;36mhasUpstreamComponent\u001b[1;34m(self, component)\u001b[0m\n\u001b[0;32m    411\u001b[0m         \u001b[1;32mif\u001b[0m \u001b[0mlen\u001b[0m\u001b[1;33m(\u001b[0m\u001b[0mself\u001b[0m\u001b[1;33m.\u001b[0m\u001b[0msequenceConstraints\u001b[0m\u001b[1;33m)\u001b[0m \u001b[1;33m<\u001b[0m \u001b[1;36m1\u001b[0m\u001b[1;33m:\u001b[0m\u001b[1;33m\u001b[0m\u001b[1;33m\u001b[0m\u001b[0m\n\u001b[0;32m    412\u001b[0m             raise SBOLError(SBOLErrorCode.SBOL_ERROR_NOT_FOUND,\n\u001b[1;32m--> 413\u001b[1;33m                             \u001b[1;34m'Cannot determine upstream Component. '\u001b[0m\u001b[1;33m\u001b[0m\u001b[1;33m\u001b[0m\u001b[0m\n\u001b[0m\u001b[0;32m    414\u001b[0m                             'Self has no SequenceConstraints')\n\u001b[0;32m    415\u001b[0m         \u001b[1;32melse\u001b[0m\u001b[1;33m:\u001b[0m\u001b[1;33m\u001b[0m\u001b[1;33m\u001b[0m\u001b[0m\n",
      "\u001b[1;31mSBOLError\u001b[0m: (<SBOLErrorCode.SBOL_ERROR_NOT_FOUND: 3>, 'Cannot determine upstream Component. Self has no SequenceConstraints')"
     ]
    }
   ],
   "source": [
    "S4_SrpR = doc.componentDefinitions['S4_SrpR']\n",
    "S4_SrpR.getFirstComponent()"
   ]
  }
 ],
 "metadata": {
  "kernelspec": {
   "display_name": "Python 3",
   "language": "python",
   "name": "python3"
  },
  "language_info": {
   "codemirror_mode": {
    "name": "ipython",
    "version": 3
   },
   "file_extension": ".py",
   "mimetype": "text/x-python",
   "name": "python",
   "nbconvert_exporter": "python",
   "pygments_lexer": "ipython3",
   "version": "3.7.3"
  }
 },
 "nbformat": 4,
 "nbformat_minor": 4
}
