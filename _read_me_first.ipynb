{
 "cells": [
  {
   "cell_type": "markdown",
   "metadata": {},
   "source": [
    "# Open SBOL Document\n",
    "Note that pySBOL is basically a SWIG-python wrapper around libSBOL (C++) and thus has all the capabilities of libSBOL <br>\n",
    "pySBOL2 is a pure python implementation, but it is noted that many functions have yet to be implemented. <br>\n",
    "A rather interesting feature within the libSBOL library that is not in the libSBOLj (Java) library is the functionality to convert a flat gb>sbol file to a hierarchical design by instantiating a component for each sequence annotation feature in the component definition. However, it is not yet implemented in libSBOL2 (probably due to its length and complexity)"
   ]
  },
  {
   "cell_type": "code",
   "execution_count": 92,
   "metadata": {},
   "outputs": [
    {
     "name": "stdout",
     "output_type": "stream",
     "text": [
      "Attachment....................0\n",
      "Collection....................0\n",
      "CombinatorialDerivation.......0\n",
      "ComponentDefinition...........5\n",
      "Experiment....................0\n",
      "Test..........................0\n",
      "Implementation................0\n",
      "Model.........................0\n",
      "ModuleDefinition..............0\n",
      "Sequence......................0\n",
      "Analysis......................0\n",
      "Build.........................0\n",
      "Design........................0\n",
      "SampleRoster..................0\n",
      "Activity......................1\n",
      "Agent.........................1\n",
      "Plan..........................0\n",
      "Annotation Objects............0\n",
      "---\n",
      "Total.........................7\n",
      "\n"
     ]
    }
   ],
   "source": [
    "import sbol\n",
    "import collections\n",
    "path = \"dummy.xml\"\n",
    "doc = sbol.Document(path)\n",
    "print(doc)"
   ]
  },
  {
   "cell_type": "code",
   "execution_count": 89,
   "metadata": {},
   "outputs": [
    {
     "name": "stdout",
     "output_type": "stream",
     "text": [
      "RBS\n",
      "CDS\n",
      "Dummy\n",
      "Pro\n",
      "Ter\n"
     ]
    }
   ],
   "source": [
    "cd = doc.componentDefinitions\n",
    "for obj in cd:\n",
    "    print(obj.displayId)"
   ]
  },
  {
   "cell_type": "markdown",
   "metadata": {},
   "source": [
    "# Obtaining Root Component Definition\n",
    "Problem now is how do we automatically derive the root component definition (dummy) without any further input? <br>\n",
    "In libSBOLj, this can be done by the method getRootComponentDefinitions() <br>\n",
    "We can try to replicate that function here since this method is not provided."
   ]
  },
  {
   "cell_type": "code",
   "execution_count": 90,
   "metadata": {},
   "outputs": [],
   "source": [
    "def getRootComponentDefinitions(doc):\n",
    "    componentDefs = doc.componentDefinitions\n",
    "    for obj in doc.componentDefinitions:\n",
    "        for component in obj.components:\n",
    "            childDefinition = component.definition\n",
    "            if(childDefinition is not None and childDefinition in componentDefs):\n",
    "                componentDefs.remove(childDefinition)\n",
    "    return componentDefs"
   ]
  },
  {
   "cell_type": "code",
   "execution_count": 91,
   "metadata": {},
   "outputs": [
    {
     "name": "stdout",
     "output_type": "stream",
     "text": [
      "Component Definition: Dummy\n"
     ]
    }
   ],
   "source": [
    "rootCd = getRootComponentDefinitions(doc)\n",
    "for componentDefinition in rootCd:\n",
    "    cdName = componentDefinition.name\n",
    "    if(cdName is None):\n",
    "        cdName = componentDefinition.displayId\n",
    "    print(\"Component Definition: \"+cdName)"
   ]
  },
  {
   "cell_type": "markdown",
   "metadata": {},
   "source": [
    "# Obtaining Sorted Components\n",
    "pySBOL cannot obtain ordered list of Components based on sequence order without Sequence Contraints <br>\n",
    "In libSBOLj, this can be done by the method getSortedComponents() <br>\n",
    "Once again, we can try to replicate that function here since this method is not provided <br>\n",
    "The issue I faced was with implementing a sorter to sort sequence annotations, and I anticipate having to write several other functions to be implemented within in this function, and then it gets a little confusing for me with mapping and things like that <br>\n",
    "This got a little tricky and troublesome for me so I left it here <br>"
   ]
  },
  {
   "cell_type": "code",
   "execution_count": null,
   "metadata": {},
   "outputs": [],
   "source": []
  }
 ],
 "metadata": {
  "kernelspec": {
   "display_name": "Python 3",
   "language": "python",
   "name": "python3"
  },
  "language_info": {
   "codemirror_mode": {
    "name": "ipython",
    "version": 3
   },
   "file_extension": ".py",
   "mimetype": "text/x-python",
   "name": "python",
   "nbconvert_exporter": "python",
   "pygments_lexer": "ipython3",
   "version": "3.7.3"
  }
 },
 "nbformat": 4,
 "nbformat_minor": 4
}
