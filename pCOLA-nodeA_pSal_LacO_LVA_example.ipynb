{
 "cells": [
  {
   "cell_type": "code",
   "execution_count": 2,
   "metadata": {},
   "outputs": [
    {
     "name": "stdout",
     "output_type": "stream",
     "text": [
      "Attachment....................0\n",
      "Collection....................0\n",
      "CombinatorialDerivation.......0\n",
      "ComponentDefinition...........16\n",
      "Experiment....................0\n",
      "Test..........................0\n",
      "Implementation................0\n",
      "Model.........................0\n",
      "ModuleDefinition..............0\n",
      "Sequence......................1\n",
      "Analysis......................0\n",
      "Build.........................0\n",
      "Design........................0\n",
      "SampleRoster..................0\n",
      "Activity......................0\n",
      "Agent.........................0\n",
      "Plan..........................0\n",
      "Annotation Objects............0\n",
      "---\n",
      "Total.........................17\n",
      "\n"
     ]
    }
   ],
   "source": [
    "import sbol\n",
    "doc = sbol.Document('pCOLA-nodeA_pSal_LacO_LVA_sbol2.rdf')\n",
    "print(doc)"
   ]
  },
  {
   "cell_type": "code",
   "execution_count": 3,
   "metadata": {},
   "outputs": [
    {
     "name": "stdout",
     "output_type": "stream",
     "text": [
      "https://benchling.com/sbol/s/seq-QfA1QZqRDazLZK6OVQmj/ac/346191208 promoter_pSalTTC\n",
      "https://benchling.com/sbol/s/seq-QfA1QZqRDazLZK6OVQmj/ac/346191194 RBS_B0032\n",
      "https://benchling.com/sbol/s/seq-QfA1QZqRDazLZK6OVQmj/ac/346191200 BglII\n",
      "https://benchling.com/sbol/s/seq-QfA1QZqRDazLZK6OVQmj/ac/346191206 [LacO1]\n",
      "https://benchling.com/sbol/s/seq-QfA1QZqRDazLZK6OVQmj/ac/346191204 tetR\n",
      "https://benchling.com/sbol/s/seq-QfA1QZqRDazLZK6OVQmj/ac/346191207 LVA\n",
      "https://benchling.com/sbol/s/seq-QfA1QZqRDazLZK6OVQmj/ac/346191202 LVA\n",
      "https://benchling.com/sbol/s/seq-QfA1QZqRDazLZK6OVQmj/ac/346191199 ori\n",
      "https://benchling.com/sbol/s/seq-QfA1QZqRDazLZK6OVQmj/ac/346191195 riboJ \n",
      "https://benchling.com/sbol/s/seq-QfA1QZqRDazLZK6OVQmj/ac/346191198 Kan\n",
      "https://benchling.com/sbol/s/seq-QfA1QZqRDazLZK6OVQmj/ac/346191196 YbtS_M5a1_k.p.\n",
      "https://benchling.com/sbol/s/seq-QfA1QZqRDazLZK6OVQmj/ac/346191201 AvrII\n",
      "https://benchling.com/sbol/s/seq-QfA1QZqRDazLZK6OVQmj/ac/346191197 terminator_B0015\n",
      "https://benchling.com/sbol/s/seq-QfA1QZqRDazLZK6OVQmj/ac/346191205 RBS(B0064 35%)\n",
      "https://benchling.com/sbol/s/seq-QfA1QZqRDazLZK6OVQmj pCOLA-nodeA_pSal_LacO_LVA\n",
      "https://benchling.com/sbol/s/seq-QfA1QZqRDazLZK6OVQmj/ac/346191203 terminator_L3S3P21\n",
      "https://benchling.com/sbol/s/seq-QfA1QZqRDazLZK6OVQmj/bases None\n"
     ]
    }
   ],
   "source": [
    "for obj in doc:\n",
    "    print(obj,obj.name)"
   ]
  },
  {
   "cell_type": "code",
   "execution_count": 4,
   "metadata": {},
   "outputs": [],
   "source": [
    "design = doc.getComponentDefinition('https://benchling.com/sbol/s/seq-QfA1QZqRDazLZK6OVQmj/ac/346191208')"
   ]
  },
  {
   "cell_type": "code",
   "execution_count": 5,
   "metadata": {},
   "outputs": [
    {
     "data": {
      "text/plain": [
       "'promoter_pSalTTC'"
      ]
     },
     "execution_count": 5,
     "metadata": {},
     "output_type": "execute_result"
    }
   ],
   "source": [
    "design.name"
   ]
  }
 ],
 "metadata": {
  "kernelspec": {
   "display_name": "Python 3",
   "language": "python",
   "name": "python3"
  },
  "language_info": {
   "codemirror_mode": {
    "name": "ipython",
    "version": 3
   },
   "file_extension": ".py",
   "mimetype": "text/x-python",
   "name": "python",
   "nbconvert_exporter": "python",
   "pygments_lexer": "ipython3",
   "version": "3.7.3"
  }
 },
 "nbformat": 4,
 "nbformat_minor": 4
}
