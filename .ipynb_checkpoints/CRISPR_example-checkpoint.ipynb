{
 "cells": [
  {
   "cell_type": "code",
   "execution_count": 1,
   "metadata": {},
   "outputs": [],
   "source": [
    "import sbol2\n",
    "sbol2.setHomespace('http://sys-bio.org')\n",
    "doc = sbol2.Document('parts.xml')"
   ]
  },
  {
   "cell_type": "code",
   "execution_count": 2,
   "metadata": {},
   "outputs": [
    {
     "name": "stdout",
     "output_type": "stream",
     "text": [
      "L3S3P11 http://sbols.org/v2#ComponentDefinition\n",
      "YFP http://sbols.org/v2#ComponentDefinition\n",
      "LuxR_sequence http://sbols.org/v2#Sequence\n",
      "pPhlF_sequence http://sbols.org/v2#Sequence\n",
      "PhlF_sequence http://sbols.org/v2#Sequence\n",
      "pLuxStar_sequence http://sbols.org/v2#Sequence\n",
      "P3_PhlF http://sbols.org/v2#ComponentDefinition\n",
      "ECK120010818 http://sbols.org/v2#ComponentDefinition\n",
      "Q2_sequence http://sbols.org/v2#Sequence\n",
      "Q2 http://sbols.org/v2#ComponentDefinition\n",
      "AmeR_sequence http://sbols.org/v2#Sequence\n",
      "S4_SrpR http://sbols.org/v2#ComponentDefinition\n",
      "N1_sequence http://sbols.org/v2#Sequence\n",
      "pLuxStar http://sbols.org/v2#ComponentDefinition\n",
      "pAmeR_sequence http://sbols.org/v2#Sequence\n",
      "N1 http://sbols.org/v2#ComponentDefinition\n",
      "LuxR http://sbols.org/v2#ComponentDefinition\n",
      "L3S2P55 http://sbols.org/v2#ComponentDefinition\n",
      "terminators http://sbols.org/v2#Collection\n",
      "S4_SrpR_sequence http://sbols.org/v2#Sequence\n",
      "pPhlF http://sbols.org/v2#ComponentDefinition\n",
      "L3S2P55_sequence http://sbols.org/v2#Sequence\n",
      "P3_PhlF_sequence http://sbols.org/v2#Sequence\n",
      "pAmeR http://sbols.org/v2#ComponentDefinition\n",
      "L3S3P11_sequence http://sbols.org/v2#Sequence\n",
      "PhlF http://sbols.org/v2#ComponentDefinition\n",
      "coding_sequences http://sbols.org/v2#Collection\n",
      "promoters http://sbols.org/v2#Collection\n",
      "ECK120010818_sequence http://sbols.org/v2#Sequence\n",
      "AmeR http://sbols.org/v2#ComponentDefinition\n",
      "rbs http://sbols.org/v2#Collection\n",
      "YFP_protein_sequence http://sbols.org/v2#Sequence\n"
     ]
    }
   ],
   "source": [
    "for obj in doc:\n",
    "    print(obj.displayId,obj.type)"
   ]
  },
  {
   "cell_type": "code",
   "execution_count": 3,
   "metadata": {},
   "outputs": [
    {
     "name": "stdout",
     "output_type": "stream",
     "text": [
      "https://synbiohub.org/public/igem/BBa_K1444010/1\n",
      "https://synbiohub.org/public/igem/BBa_K1444011/1\n",
      "https://synbiohub.org/public/igem/BBa_K1444012/1\n",
      "https://synbiohub.org/public/igem/BBa_K1444013/1\n",
      "https://synbiohub.org/public/igem/BBa_K1444014/1\n",
      "https://synbiohub.org/public/igem/BBa_K1444015/1\n",
      "https://synbiohub.org/public/igem/BBa_K1444016/1\n",
      "https://synbiohub.org/public/igem/BBa_K1428000/1\n",
      "https://synbiohub.org/public/igem/BBa_K1431101/1\n",
      "https://synbiohub.org/public/igem/BBa_K1321102/1\n",
      "https://synbiohub.org/public/igem/BBa_K1321103/1\n",
      "https://synbiohub.org/public/igem/BBa_K1321106/1\n",
      "https://synbiohub.org/public/igem/BBa_K1321107/1\n",
      "https://synbiohub.org/public/igem/BBa_K1321113/1\n",
      "https://synbiohub.org/public/igem/BBa_K1321116/1\n",
      "https://synbiohub.org/public/igem/BBa_K1321117/1\n",
      "https://synbiohub.org/public/igem/BBa_K1377000/1\n",
      "https://synbiohub.org/public/igem/BBa_K1311003/1\n",
      "https://synbiohub.org/public/igem/BBa_K1539001/1\n",
      "https://synbiohub.org/public/igem/BBa_K1539002/1\n",
      "https://synbiohub.org/public/igem/BBa_K1401009/1\n",
      "https://synbiohub.org/public/igem/BBa_K1401010/1\n",
      "https://synbiohub.org/public/igem/BBa_K1311004/1\n",
      "https://synbiohub.org/public/igem/BBa_K1431302/1\n",
      "https://synbiohub.org/public/igem/BBa_K1407000/1\n"
     ]
    }
   ],
   "source": [
    "igem = sbol2.PartShop('https://synbiohub.org/public/igem')\n",
    "records = igem.search('promoter')\n",
    "for r in records:\n",
    "    print(r.identity)"
   ]
  },
  {
   "cell_type": "code",
   "execution_count": 4,
   "metadata": {},
   "outputs": [
    {
     "name": "stdout",
     "output_type": "stream",
     "text": [
      "http://examples.org/ComponentDefinition/L3S3P11/1\n",
      "http://examples.org/ComponentDefinition/YFP/1\n",
      "http://examples.org/ComponentDefinition/P3_PhlF/1\n",
      "http://examples.org/ComponentDefinition/ECK120010818/1\n",
      "http://examples.org/ComponentDefinition/Q2/1\n",
      "http://examples.org/ComponentDefinition/S4_SrpR/1\n",
      "http://examples.org/ComponentDefinition/pLuxStar/1\n",
      "http://examples.org/ComponentDefinition/N1/1\n",
      "http://examples.org/ComponentDefinition/LuxR/1\n",
      "http://examples.org/ComponentDefinition/L3S2P55/1\n",
      "http://examples.org/ComponentDefinition/pPhlF/1\n",
      "http://examples.org/ComponentDefinition/pAmeR/1\n",
      "http://examples.org/ComponentDefinition/PhlF/1\n",
      "http://examples.org/ComponentDefinition/AmeR/1\n",
      "https://synbiohub.org/public/igem/BBa_R0040/1\n"
     ]
    }
   ],
   "source": [
    "igem.pull('https://synbiohub.org/public/igem/BBa_R0040/1', doc)\n",
    "for cd in doc.componentDefinitions:\n",
    "    print(cd)"
   ]
  },
  {
   "cell_type": "code",
   "execution_count": 5,
   "metadata": {},
   "outputs": [],
   "source": [
    "promoter = doc.componentDefinitions['https://synbiohub.org/public/igem/BBa_R0040/1']\n",
    "rbs = doc.componentDefinitions['Q2']\n",
    "cds = doc.componentDefinitions['LuxR']\n",
    "term = doc.componentDefinitions['ECK120010818']"
   ]
  },
  {
   "cell_type": "code",
   "execution_count": 6,
   "metadata": {},
   "outputs": [],
   "source": [
    "my_device = doc.componentDefinitions.create('my_device')"
   ]
  },
  {
   "cell_type": "code",
   "execution_count": 7,
   "metadata": {},
   "outputs": [
    {
     "name": "stdout",
     "output_type": "stream",
     "text": [
      "BBa_R0040\n",
      "BBa_G0002\n",
      "Q2\n",
      "BBa_G0000\n",
      "LuxR\n",
      "BBa_G0002\n",
      "ECK120010818\n"
     ]
    }
   ],
   "source": [
    "my_device.assemblePrimaryStructure([promoter, rbs, cds, term], sbol2.IGEM_STANDARD_ASSEMBLY)\n",
    "for cd in my_device.getPrimaryStructure():\n",
    "    print(cd.displayId)"
   ]
  },
  {
   "cell_type": "code",
   "execution_count": 8,
   "metadata": {},
   "outputs": [
    {
     "name": "stdout",
     "output_type": "stream",
     "text": [
      "tccctatcagtgatagagattgacatccctatcagtgatagagatactgagcactactagagGCCATGCCATTGGCTTTTGATAGAGGACAACTACTAGtactagATGAACATTAAAAATATAAATGCTAATGAGAAGATAATTGATAAAATTAAAACTTGTAATAATAATAAAGATATTAATCAATGTTTATCTGAAATAGCAAAGATAATACATTGTGAATATTACCTATTCGCTATTATCTATCCTCACTCAATAATTAAACCTGATGTTTCAATTATAGATAATTACCCTGAAAAATGGCGTAAATATTATGATGATGCCGGACTACTAGAATATGACCCTGTAGTCGATTACTCTAAGTCCCATCATTCACCAATTAATTGGAACGTATTCGAAAAAAAAACAATAAAAAAAGAGTCTCCGAATGTAATAAAAGAAGCACAGGAATCGGGACTCATTACTGGATTTAGCTTTCCAATTCATACTGCAAGTAATGGTTTTGGAATGCTCAGTTTTGCTCATTCAGATAAAGATATTTATACTGACAGTTTATTTTTACACGCTAGTACAAATGTACCATTAATGCTTCCTTCTTTAGTCGATAATTATCAAAAAATAAATACGACACGTAAAAAGTCAGATTCTATTTTAACAAAAAGAGAAAAAGAATGCTTAGCGTGGGCGAGTGAAGGAAAAAGTACATGGGATATTTCAAAAATACTTGGCTGCAGTGAGCGTACTGTCACTTTTCATTTAACCAATACTCAAATGAAACTCAATACAACTAACCGCTGCCAAAGTATTTCTAAAGCAATTTTAACTGGCGCCATTAATTGTCCATACCTTAAAAATTAAtactagagGTCAGTTTCACCTGTTTTACGTAAAAACCCGCTTCGGCGGGTTTTTACTTTTGG\n"
     ]
    }
   ],
   "source": [
    "nucleotides = my_device.compile()\n",
    "seq = my_device.sequence\n",
    "print(seq.elements)"
   ]
  },
  {
   "cell_type": "code",
   "execution_count": 10,
   "metadata": {},
   "outputs": [
    {
     "name": "stdout",
     "output_type": "stream",
     "text": [
      "['http://identifiers.org/so/SO:0000704']\n"
     ]
    }
   ],
   "source": [
    "my_device.roles = [sbol2.SO_GENE]\n",
    "print(my_device.roles)"
   ]
  },
  {
   "cell_type": "code",
   "execution_count": 12,
   "metadata": {},
   "outputs": [
    {
     "data": {
      "text/plain": [
       "['http://identifiers.org/so/SO:0000444']"
      ]
     },
     "execution_count": 12,
     "metadata": {},
     "output_type": "execute_result"
    }
   ],
   "source": [
    "my_device.roles = [sbol2.SO + '0000444']\n",
    "my_device.roles"
   ]
  },
  {
   "cell_type": "code",
   "execution_count": 13,
   "metadata": {},
   "outputs": [
    {
     "data": {
      "text/plain": [
       "'Design........................0\\nBuild.........................0\\nTest..........................0\\nAnalysis......................0\\nComponentDefinition...........18\\nModuleDefinition..............0\\nModel.........................0\\nSequence......................18\\nCollection....................4\\nActivity......................1\\nPlan..........................0\\nAgent.........................0\\nAttachment....................0\\nCombinatorialDerivation.......0\\nImplementation................0\\nSampleRoster..................0\\nExperiment....................0\\nExperimentalData..............0\\nAnnotation Objects............0\\n---\\nTotal: .........................41\\n'"
      ]
     },
     "execution_count": 13,
     "metadata": {},
     "output_type": "execute_result"
    }
   ],
   "source": [
    "doc.summary()"
   ]
  }
 ],
 "metadata": {
  "kernelspec": {
   "display_name": "Python 3",
   "language": "python",
   "name": "python3"
  },
  "language_info": {
   "codemirror_mode": {
    "name": "ipython",
    "version": 3
   },
   "file_extension": ".py",
   "mimetype": "text/x-python",
   "name": "python",
   "nbconvert_exporter": "python",
   "pygments_lexer": "ipython3",
   "version": "3.7.3"
  }
 },
 "nbformat": 4,
 "nbformat_minor": 4
}
