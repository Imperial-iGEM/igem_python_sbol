{
 "cells": [
  {
   "cell_type": "code",
   "execution_count": 2,
   "metadata": {},
   "outputs": [],
   "source": [
    "import sbol2\n",
    "sbol2.setHomespace('http://sys-bio.org')\n",
    "doc = sbol2.Document('parts.xml')"
   ]
  },
  {
   "cell_type": "code",
   "execution_count": 3,
   "metadata": {},
   "outputs": [
    {
     "name": "stdout",
     "output_type": "stream",
     "text": [
      "L3S3P11_sequence http://sbols.org/v2#Sequence\n",
      "rbs http://sbols.org/v2#Collection\n",
      "P3_PhlF_sequence http://sbols.org/v2#Sequence\n",
      "YFP_protein_sequence http://sbols.org/v2#Sequence\n",
      "L3S2P55 http://sbols.org/v2#ComponentDefinition\n",
      "ECK120010818 http://sbols.org/v2#ComponentDefinition\n",
      "pPhlF_sequence http://sbols.org/v2#Sequence\n",
      "coding_sequences http://sbols.org/v2#Collection\n",
      "P3_PhlF http://sbols.org/v2#ComponentDefinition\n",
      "S4_SrpR http://sbols.org/v2#ComponentDefinition\n",
      "N1 http://sbols.org/v2#ComponentDefinition\n",
      "AmeR http://sbols.org/v2#ComponentDefinition\n",
      "ECK120010818_sequence http://sbols.org/v2#Sequence\n",
      "AmeR_sequence http://sbols.org/v2#Sequence\n",
      "YFP http://sbols.org/v2#ComponentDefinition\n",
      "PhlF http://sbols.org/v2#ComponentDefinition\n",
      "terminators http://sbols.org/v2#Collection\n",
      "pLuxStar http://sbols.org/v2#ComponentDefinition\n",
      "promoters http://sbols.org/v2#Collection\n",
      "pPhlF http://sbols.org/v2#ComponentDefinition\n",
      "N1_sequence http://sbols.org/v2#Sequence\n",
      "pAmeR http://sbols.org/v2#ComponentDefinition\n",
      "LuxR_sequence http://sbols.org/v2#Sequence\n",
      "PhlF_sequence http://sbols.org/v2#Sequence\n",
      "S4_SrpR_sequence http://sbols.org/v2#Sequence\n",
      "L3S2P55_sequence http://sbols.org/v2#Sequence\n",
      "L3S3P11 http://sbols.org/v2#ComponentDefinition\n",
      "Q2 http://sbols.org/v2#ComponentDefinition\n",
      "Q2_sequence http://sbols.org/v2#Sequence\n",
      "pLuxStar_sequence http://sbols.org/v2#Sequence\n",
      "pAmeR_sequence http://sbols.org/v2#Sequence\n",
      "LuxR http://sbols.org/v2#ComponentDefinition\n"
     ]
    }
   ],
   "source": [
    "for obj in doc:\n",
    "    print(obj.displayId,obj.type)"
   ]
  },
  {
   "cell_type": "code",
   "execution_count": 4,
   "metadata": {},
   "outputs": [
    {
     "name": "stdout",
     "output_type": "stream",
     "text": [
      "http://examples.org/Sequence/L3S3P11_sequence/1\n",
      "http://examples.org/Sequence/P3_PhlF_sequence/1\n",
      "http://examples.org/Sequence/YFP_protein_sequence/1\n",
      "http://examples.org/Sequence/pPhlF_sequence/1\n",
      "http://examples.org/Sequence/ECK120010818_sequence/1\n",
      "http://examples.org/Sequence/AmeR_sequence/1\n",
      "http://examples.org/Sequence/N1_sequence/1\n",
      "http://examples.org/Sequence/LuxR_sequence/1\n",
      "http://examples.org/Sequence/PhlF_sequence/1\n",
      "http://examples.org/Sequence/S4_SrpR_sequence/1\n",
      "http://examples.org/Sequence/L3S2P55_sequence/1\n",
      "http://examples.org/Sequence/Q2_sequence/1\n",
      "http://examples.org/Sequence/pLuxStar_sequence/1\n",
      "http://examples.org/Sequence/pAmeR_sequence/1\n"
     ]
    }
   ],
   "source": [
    "for obj in doc.sequences:\n",
    "    print(obj)"
   ]
  },
  {
   "cell_type": "code",
   "execution_count": 5,
   "metadata": {},
   "outputs": [
    {
     "ename": "SBOLError",
     "evalue": "('Object http://examples.org/Sequence/S4_SrpR_sequence/1 not found', <SBOLErrorCode.NOT_FOUND_ERROR: 2>)",
     "output_type": "error",
     "traceback": [
      "\u001b[1;31m---------------------------------------------------------------------------\u001b[0m",
      "\u001b[1;31mSBOLError\u001b[0m                                 Traceback (most recent call last)",
      "\u001b[1;32m<ipython-input-5-d5d375744afd>\u001b[0m in \u001b[0;36m<module>\u001b[1;34m\u001b[0m\n\u001b[1;32m----> 1\u001b[1;33m \u001b[0mS4_SrpR\u001b[0m \u001b[1;33m=\u001b[0m \u001b[0mdoc\u001b[0m\u001b[1;33m.\u001b[0m\u001b[0mcomponentDefinitions\u001b[0m\u001b[1;33m[\u001b[0m\u001b[1;34m'http://examples.org/Sequence/S4_SrpR_sequence/1'\u001b[0m\u001b[1;33m]\u001b[0m\u001b[1;33m\u001b[0m\u001b[1;33m\u001b[0m\u001b[0m\n\u001b[0m",
      "\u001b[1;32m~\\AppData\\Roaming\\Python\\Python37\\site-packages\\sbol2\\property.py\u001b[0m in \u001b[0;36m__getitem__\u001b[1;34m(self, id)\u001b[0m\n\u001b[0;32m    603\u001b[0m             \u001b[1;32mreturn\u001b[0m \u001b[0mself\u001b[0m\u001b[1;33m.\u001b[0m\u001b[0mget_int\u001b[0m\u001b[1;33m(\u001b[0m\u001b[0mid\u001b[0m\u001b[1;33m)\u001b[0m\u001b[1;33m\u001b[0m\u001b[1;33m\u001b[0m\u001b[0m\n\u001b[0;32m    604\u001b[0m         \u001b[1;32mif\u001b[0m \u001b[0misinstance\u001b[0m\u001b[1;33m(\u001b[0m\u001b[0mid\u001b[0m\u001b[1;33m,\u001b[0m \u001b[0mstr\u001b[0m\u001b[1;33m)\u001b[0m\u001b[1;33m:\u001b[0m\u001b[1;33m\u001b[0m\u001b[1;33m\u001b[0m\u001b[0m\n\u001b[1;32m--> 605\u001b[1;33m             \u001b[1;32mreturn\u001b[0m \u001b[0mself\u001b[0m\u001b[1;33m.\u001b[0m\u001b[0mget_uri\u001b[0m\u001b[1;33m(\u001b[0m\u001b[0mrdflib\u001b[0m\u001b[1;33m.\u001b[0m\u001b[0mURIRef\u001b[0m\u001b[1;33m(\u001b[0m\u001b[0mid\u001b[0m\u001b[1;33m)\u001b[0m\u001b[1;33m)\u001b[0m\u001b[1;33m\u001b[0m\u001b[1;33m\u001b[0m\u001b[0m\n\u001b[0m\u001b[0;32m    606\u001b[0m         \u001b[1;31m# Anything other than int and str, covered above, is a problem\u001b[0m\u001b[1;33m\u001b[0m\u001b[1;33m\u001b[0m\u001b[1;33m\u001b[0m\u001b[0m\n\u001b[0;32m    607\u001b[0m         \u001b[0merrmsg\u001b[0m \u001b[1;33m=\u001b[0m \u001b[1;34m'id must be str or int, got {!r}'\u001b[0m\u001b[1;33m.\u001b[0m\u001b[0mformat\u001b[0m\u001b[1;33m(\u001b[0m\u001b[0mtype\u001b[0m\u001b[1;33m(\u001b[0m\u001b[0mid\u001b[0m\u001b[1;33m)\u001b[0m\u001b[1;33m)\u001b[0m\u001b[1;33m\u001b[0m\u001b[1;33m\u001b[0m\u001b[0m\n",
      "\u001b[1;32m~\\AppData\\Roaming\\Python\\Python37\\site-packages\\sbol2\\property.py\u001b[0m in \u001b[0;36mget_uri\u001b[1;34m(self, id)\u001b[0m\n\u001b[0;32m    666\u001b[0m             \u001b[1;32melse\u001b[0m\u001b[1;33m:\u001b[0m\u001b[1;33m\u001b[0m\u001b[1;33m\u001b[0m\u001b[0m\n\u001b[0;32m    667\u001b[0m                 \u001b[0mmsg\u001b[0m \u001b[1;33m=\u001b[0m \u001b[1;34m'Object {} not found'\u001b[0m\u001b[1;33m.\u001b[0m\u001b[0mformat\u001b[0m\u001b[1;33m(\u001b[0m\u001b[0mid\u001b[0m\u001b[1;33m)\u001b[0m\u001b[1;33m\u001b[0m\u001b[1;33m\u001b[0m\u001b[0m\n\u001b[1;32m--> 668\u001b[1;33m                 \u001b[1;32mraise\u001b[0m \u001b[0mSBOLError\u001b[0m\u001b[1;33m(\u001b[0m\u001b[0mmsg\u001b[0m\u001b[1;33m,\u001b[0m \u001b[0mSBOLErrorCode\u001b[0m\u001b[1;33m.\u001b[0m\u001b[0mNOT_FOUND_ERROR\u001b[0m\u001b[1;33m)\u001b[0m\u001b[1;33m\u001b[0m\u001b[1;33m\u001b[0m\u001b[0m\n\u001b[0m\u001b[0;32m    669\u001b[0m \u001b[1;33m\u001b[0m\u001b[0m\n\u001b[0;32m    670\u001b[0m     \u001b[1;32mdef\u001b[0m \u001b[0mfind_persistent_identity\u001b[0m\u001b[1;33m(\u001b[0m\u001b[0mself\u001b[0m\u001b[1;33m,\u001b[0m \u001b[0msearch_uri\u001b[0m\u001b[1;33m)\u001b[0m\u001b[1;33m:\u001b[0m\u001b[1;33m\u001b[0m\u001b[1;33m\u001b[0m\u001b[0m\n",
      "\u001b[1;31mSBOLError\u001b[0m: ('Object http://examples.org/Sequence/S4_SrpR_sequence/1 not found', <SBOLErrorCode.NOT_FOUND_ERROR: 2>)"
     ]
    }
   ],
   "source": [
    "S4_SrpR = doc.componentDefinitions['http://examples.org/Sequence/S4_SrpR_sequence/1']"
   ]
  }
 ],
 "metadata": {
  "kernelspec": {
   "display_name": "Python 3",
   "language": "python",
   "name": "python3"
  },
  "language_info": {
   "codemirror_mode": {
    "name": "ipython",
    "version": 3
   },
   "file_extension": ".py",
   "mimetype": "text/x-python",
   "name": "python",
   "nbconvert_exporter": "python",
   "pygments_lexer": "ipython3",
   "version": "3.7.3"
  }
 },
 "nbformat": 4,
 "nbformat_minor": 4
}
